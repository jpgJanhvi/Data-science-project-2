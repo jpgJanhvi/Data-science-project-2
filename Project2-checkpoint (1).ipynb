{
 "cells": [
  {
   "cell_type": "markdown",
   "id": "da309508",
   "metadata": {},
   "source": [
    "# Loading the data"
   ]
  },
  {
   "cell_type": "code",
   "execution_count": 1,
   "id": "8c050254",
   "metadata": {},
   "outputs": [
    {
     "data": {
      "text/html": [
       "<div>\n",
       "<style scoped>\n",
       "    .dataframe tbody tr th:only-of-type {\n",
       "        vertical-align: middle;\n",
       "    }\n",
       "\n",
       "    .dataframe tbody tr th {\n",
       "        vertical-align: top;\n",
       "    }\n",
       "\n",
       "    .dataframe thead th {\n",
       "        text-align: right;\n",
       "    }\n",
       "</style>\n",
       "<table border=\"1\" class=\"dataframe\">\n",
       "  <thead>\n",
       "    <tr style=\"text-align: right;\">\n",
       "      <th></th>\n",
       "      <th>Country</th>\n",
       "      <th>Code</th>\n",
       "      <th>Year</th>\n",
       "      <th>Meat_total</th>\n",
       "    </tr>\n",
       "  </thead>\n",
       "  <tbody>\n",
       "    <tr>\n",
       "      <th>0</th>\n",
       "      <td>Bahamas</td>\n",
       "      <td>BHS</td>\n",
       "      <td>1961</td>\n",
       "      <td>126.7</td>\n",
       "    </tr>\n",
       "    <tr>\n",
       "      <th>1</th>\n",
       "      <td>Brunei</td>\n",
       "      <td>BRN</td>\n",
       "      <td>1961</td>\n",
       "      <td>1289.8</td>\n",
       "    </tr>\n",
       "    <tr>\n",
       "      <th>2</th>\n",
       "      <td>Qatar</td>\n",
       "      <td>QAT</td>\n",
       "      <td>1961</td>\n",
       "      <td>1769.2</td>\n",
       "    </tr>\n",
       "    <tr>\n",
       "      <th>3</th>\n",
       "      <td>Faroe Islands</td>\n",
       "      <td>FRO</td>\n",
       "      <td>1961</td>\n",
       "      <td>NaN</td>\n",
       "    </tr>\n",
       "    <tr>\n",
       "      <th>4</th>\n",
       "      <td>Tuvalu</td>\n",
       "      <td>TUV</td>\n",
       "      <td>1961</td>\n",
       "      <td>3.0</td>\n",
       "    </tr>\n",
       "  </tbody>\n",
       "</table>\n",
       "</div>"
      ],
      "text/plain": [
       "         Country Code  Year  Meat_total\n",
       "0        Bahamas  BHS  1961       126.7\n",
       "1         Brunei  BRN  1961      1289.8\n",
       "2          Qatar  QAT  1961      1769.2\n",
       "3  Faroe Islands  FRO  1961         NaN\n",
       "4         Tuvalu  TUV  1961         3.0"
      ]
     },
     "execution_count": 1,
     "metadata": {},
     "output_type": "execute_result"
    }
   ],
   "source": [
    "import pandas as pd\n",
    "\n",
    "# Load the dataset\n",
    "data = pd.read_csv(\"global_meat.csv\")\n",
    "\n",
    "data.head()\n"
   ]
  },
  {
   "cell_type": "code",
   "execution_count": 2,
   "id": "284c4862",
   "metadata": {},
   "outputs": [
    {
     "name": "stdout",
     "output_type": "stream",
     "text": [
      "Information about the dataset before preprocessing:\n",
      "<class 'pandas.core.frame.DataFrame'>\n",
      "RangeIndex: 14382 entries, 0 to 14381\n",
      "Data columns (total 4 columns):\n",
      " #   Column      Non-Null Count  Dtype  \n",
      "---  ------      --------------  -----  \n",
      " 0   Country     14382 non-null  object \n",
      " 1   Code        11719 non-null  object \n",
      " 2   Year        14382 non-null  int64  \n",
      " 3   Meat_total  14377 non-null  float64\n",
      "dtypes: float64(1), int64(1), object(2)\n",
      "memory usage: 449.6+ KB\n",
      "None\n"
     ]
    }
   ],
   "source": [
    "\n",
    "# Display information about the dataset before preprocessing\n",
    "print(\"Information about the dataset before preprocessing:\")\n",
    "print(data.info())"
   ]
  },
  {
   "cell_type": "markdown",
   "id": "e1f24605",
   "metadata": {},
   "source": [
    "# Handling Missing Values(Imputation)"
   ]
  },
  {
   "cell_type": "code",
   "execution_count": 3,
   "id": "02e34fd9",
   "metadata": {},
   "outputs": [],
   "source": [
    "# Step 2: Handling Missing Values (Imputation)\n",
    "from sklearn.impute import SimpleImputer"
   ]
  },
  {
   "cell_type": "code",
   "execution_count": 4,
   "id": "34f717c3",
   "metadata": {},
   "outputs": [],
   "source": [
    "# Impute missing values in the 'Meat_total' column with the mean\n",
    "imputer = SimpleImputer(strategy='mean')\n",
    "data['Meat_total'] = imputer.fit_transform(data[['Meat_total']])"
   ]
  },
  {
   "cell_type": "code",
   "execution_count": 5,
   "id": "1c004eec",
   "metadata": {},
   "outputs": [],
   "source": [
    "from sklearn.preprocessing import OneHotEncoder, LabelEncoder"
   ]
  },
  {
   "cell_type": "code",
   "execution_count": 6,
   "id": "3c06f506",
   "metadata": {},
   "outputs": [
    {
     "data": {
      "text/html": [
       "<div>\n",
       "<style scoped>\n",
       "    .dataframe tbody tr th:only-of-type {\n",
       "        vertical-align: middle;\n",
       "    }\n",
       "\n",
       "    .dataframe tbody tr th {\n",
       "        vertical-align: top;\n",
       "    }\n",
       "\n",
       "    .dataframe thead th {\n",
       "        text-align: right;\n",
       "    }\n",
       "</style>\n",
       "<table border=\"1\" class=\"dataframe\">\n",
       "  <thead>\n",
       "    <tr style=\"text-align: right;\">\n",
       "      <th></th>\n",
       "      <th>Year</th>\n",
       "      <th>Meat_total</th>\n",
       "      <th>Country_Africa</th>\n",
       "      <th>Country_Africa (FAO)</th>\n",
       "      <th>Country_Albania</th>\n",
       "      <th>Country_Algeria</th>\n",
       "      <th>Country_Americas (FAO)</th>\n",
       "      <th>Country_Angola</th>\n",
       "      <th>Country_Antigua and Barbuda</th>\n",
       "      <th>Country_Argentina</th>\n",
       "      <th>...</th>\n",
       "      <th>Code_VCT</th>\n",
       "      <th>Code_VEN</th>\n",
       "      <th>Code_VNM</th>\n",
       "      <th>Code_VUT</th>\n",
       "      <th>Code_WSM</th>\n",
       "      <th>Code_YEM</th>\n",
       "      <th>Code_ZAF</th>\n",
       "      <th>Code_ZMB</th>\n",
       "      <th>Code_ZWE</th>\n",
       "      <th>Code_nan</th>\n",
       "    </tr>\n",
       "  </thead>\n",
       "  <tbody>\n",
       "    <tr>\n",
       "      <th>0</th>\n",
       "      <td>1961</td>\n",
       "      <td>1.267000e+02</td>\n",
       "      <td>0.0</td>\n",
       "      <td>0.0</td>\n",
       "      <td>0.0</td>\n",
       "      <td>0.0</td>\n",
       "      <td>0.0</td>\n",
       "      <td>0.0</td>\n",
       "      <td>0.0</td>\n",
       "      <td>0.0</td>\n",
       "      <td>...</td>\n",
       "      <td>0.0</td>\n",
       "      <td>0.0</td>\n",
       "      <td>0.0</td>\n",
       "      <td>0.0</td>\n",
       "      <td>0.0</td>\n",
       "      <td>0.0</td>\n",
       "      <td>0.0</td>\n",
       "      <td>0.0</td>\n",
       "      <td>0.0</td>\n",
       "      <td>0.0</td>\n",
       "    </tr>\n",
       "    <tr>\n",
       "      <th>1</th>\n",
       "      <td>1961</td>\n",
       "      <td>1.289800e+03</td>\n",
       "      <td>0.0</td>\n",
       "      <td>0.0</td>\n",
       "      <td>0.0</td>\n",
       "      <td>0.0</td>\n",
       "      <td>0.0</td>\n",
       "      <td>0.0</td>\n",
       "      <td>0.0</td>\n",
       "      <td>0.0</td>\n",
       "      <td>...</td>\n",
       "      <td>0.0</td>\n",
       "      <td>0.0</td>\n",
       "      <td>0.0</td>\n",
       "      <td>0.0</td>\n",
       "      <td>0.0</td>\n",
       "      <td>0.0</td>\n",
       "      <td>0.0</td>\n",
       "      <td>0.0</td>\n",
       "      <td>0.0</td>\n",
       "      <td>0.0</td>\n",
       "    </tr>\n",
       "    <tr>\n",
       "      <th>2</th>\n",
       "      <td>1961</td>\n",
       "      <td>1.769200e+03</td>\n",
       "      <td>0.0</td>\n",
       "      <td>0.0</td>\n",
       "      <td>0.0</td>\n",
       "      <td>0.0</td>\n",
       "      <td>0.0</td>\n",
       "      <td>0.0</td>\n",
       "      <td>0.0</td>\n",
       "      <td>0.0</td>\n",
       "      <td>...</td>\n",
       "      <td>0.0</td>\n",
       "      <td>0.0</td>\n",
       "      <td>0.0</td>\n",
       "      <td>0.0</td>\n",
       "      <td>0.0</td>\n",
       "      <td>0.0</td>\n",
       "      <td>0.0</td>\n",
       "      <td>0.0</td>\n",
       "      <td>0.0</td>\n",
       "      <td>0.0</td>\n",
       "    </tr>\n",
       "    <tr>\n",
       "      <th>3</th>\n",
       "      <td>1961</td>\n",
       "      <td>1.697049e+06</td>\n",
       "      <td>0.0</td>\n",
       "      <td>0.0</td>\n",
       "      <td>0.0</td>\n",
       "      <td>0.0</td>\n",
       "      <td>0.0</td>\n",
       "      <td>0.0</td>\n",
       "      <td>0.0</td>\n",
       "      <td>0.0</td>\n",
       "      <td>...</td>\n",
       "      <td>0.0</td>\n",
       "      <td>0.0</td>\n",
       "      <td>0.0</td>\n",
       "      <td>0.0</td>\n",
       "      <td>0.0</td>\n",
       "      <td>0.0</td>\n",
       "      <td>0.0</td>\n",
       "      <td>0.0</td>\n",
       "      <td>0.0</td>\n",
       "      <td>0.0</td>\n",
       "    </tr>\n",
       "    <tr>\n",
       "      <th>4</th>\n",
       "      <td>1961</td>\n",
       "      <td>3.000000e+00</td>\n",
       "      <td>0.0</td>\n",
       "      <td>0.0</td>\n",
       "      <td>0.0</td>\n",
       "      <td>0.0</td>\n",
       "      <td>0.0</td>\n",
       "      <td>0.0</td>\n",
       "      <td>0.0</td>\n",
       "      <td>0.0</td>\n",
       "      <td>...</td>\n",
       "      <td>0.0</td>\n",
       "      <td>0.0</td>\n",
       "      <td>0.0</td>\n",
       "      <td>0.0</td>\n",
       "      <td>0.0</td>\n",
       "      <td>0.0</td>\n",
       "      <td>0.0</td>\n",
       "      <td>0.0</td>\n",
       "      <td>0.0</td>\n",
       "      <td>0.0</td>\n",
       "    </tr>\n",
       "  </tbody>\n",
       "</table>\n",
       "<p>5 rows × 465 columns</p>\n",
       "</div>"
      ],
      "text/plain": [
       "   Year    Meat_total  Country_Africa  Country_Africa (FAO)  Country_Albania  \\\n",
       "0  1961  1.267000e+02             0.0                   0.0              0.0   \n",
       "1  1961  1.289800e+03             0.0                   0.0              0.0   \n",
       "2  1961  1.769200e+03             0.0                   0.0              0.0   \n",
       "3  1961  1.697049e+06             0.0                   0.0              0.0   \n",
       "4  1961  3.000000e+00             0.0                   0.0              0.0   \n",
       "\n",
       "   Country_Algeria  Country_Americas (FAO)  Country_Angola  \\\n",
       "0              0.0                     0.0             0.0   \n",
       "1              0.0                     0.0             0.0   \n",
       "2              0.0                     0.0             0.0   \n",
       "3              0.0                     0.0             0.0   \n",
       "4              0.0                     0.0             0.0   \n",
       "\n",
       "   Country_Antigua and Barbuda  Country_Argentina  ...  Code_VCT  Code_VEN  \\\n",
       "0                          0.0                0.0  ...       0.0       0.0   \n",
       "1                          0.0                0.0  ...       0.0       0.0   \n",
       "2                          0.0                0.0  ...       0.0       0.0   \n",
       "3                          0.0                0.0  ...       0.0       0.0   \n",
       "4                          0.0                0.0  ...       0.0       0.0   \n",
       "\n",
       "   Code_VNM  Code_VUT  Code_WSM  Code_YEM  Code_ZAF  Code_ZMB  Code_ZWE  \\\n",
       "0       0.0       0.0       0.0       0.0       0.0       0.0       0.0   \n",
       "1       0.0       0.0       0.0       0.0       0.0       0.0       0.0   \n",
       "2       0.0       0.0       0.0       0.0       0.0       0.0       0.0   \n",
       "3       0.0       0.0       0.0       0.0       0.0       0.0       0.0   \n",
       "4       0.0       0.0       0.0       0.0       0.0       0.0       0.0   \n",
       "\n",
       "   Code_nan  \n",
       "0       0.0  \n",
       "1       0.0  \n",
       "2       0.0  \n",
       "3       0.0  \n",
       "4       0.0  \n",
       "\n",
       "[5 rows x 465 columns]"
      ]
     },
     "execution_count": 6,
     "metadata": {},
     "output_type": "execute_result"
    }
   ],
   "source": [
    "from sklearn.preprocessing import OneHotEncoder\n",
    "\n",
    "# One-hot encode 'Country' and 'Code' columns\n",
    "encoder = OneHotEncoder(sparse=False, drop='first')\n",
    "encoded_cols = encoder.fit_transform(data[['Country', 'Code']])\n",
    "encoded_df = pd.DataFrame(encoded_cols, columns=encoder.get_feature_names_out(['Country', 'Code']))\n",
    "data_encoded = pd.concat([data.drop(['Country', 'Code'], axis=1), encoded_df], axis=1)\n",
    "\n",
    "# Display the first few rows after encoding\n",
    "data_encoded.head()\n"
   ]
  },
  {
   "cell_type": "code",
   "execution_count": 7,
   "id": "cbb30eb6",
   "metadata": {},
   "outputs": [
    {
     "data": {
      "text/plain": [
       "Index(['Country', 'Code', 'Year', 'Meat_total'], dtype='object')"
      ]
     },
     "execution_count": 7,
     "metadata": {},
     "output_type": "execute_result"
    }
   ],
   "source": [
    "data.columns"
   ]
  },
  {
   "cell_type": "markdown",
   "id": "cafaefb3",
   "metadata": {},
   "source": [
    "# Label Encoding"
   ]
  },
  {
   "cell_type": "code",
   "execution_count": 8,
   "id": "2b86e8c8",
   "metadata": {},
   "outputs": [
    {
     "data": {
      "text/html": [
       "<div>\n",
       "<style scoped>\n",
       "    .dataframe tbody tr th:only-of-type {\n",
       "        vertical-align: middle;\n",
       "    }\n",
       "\n",
       "    .dataframe tbody tr th {\n",
       "        vertical-align: top;\n",
       "    }\n",
       "\n",
       "    .dataframe thead th {\n",
       "        text-align: right;\n",
       "    }\n",
       "</style>\n",
       "<table border=\"1\" class=\"dataframe\">\n",
       "  <thead>\n",
       "    <tr style=\"text-align: right;\">\n",
       "      <th></th>\n",
       "      <th>Country</th>\n",
       "      <th>Code</th>\n",
       "      <th>Year</th>\n",
       "      <th>Meat_total</th>\n",
       "      <th>Country_LabelEncoded</th>\n",
       "      <th>Code_LabelEncoded</th>\n",
       "    </tr>\n",
       "  </thead>\n",
       "  <tbody>\n",
       "    <tr>\n",
       "      <th>0</th>\n",
       "      <td>Bahamas</td>\n",
       "      <td>BHS</td>\n",
       "      <td>1961</td>\n",
       "      <td>1.267000e+02</td>\n",
       "      <td>15</td>\n",
       "      <td>17</td>\n",
       "    </tr>\n",
       "    <tr>\n",
       "      <th>1</th>\n",
       "      <td>Brunei</td>\n",
       "      <td>BRN</td>\n",
       "      <td>1961</td>\n",
       "      <td>1.289800e+03</td>\n",
       "      <td>29</td>\n",
       "      <td>24</td>\n",
       "    </tr>\n",
       "    <tr>\n",
       "      <th>2</th>\n",
       "      <td>Qatar</td>\n",
       "      <td>QAT</td>\n",
       "      <td>1961</td>\n",
       "      <td>1.769200e+03</td>\n",
       "      <td>183</td>\n",
       "      <td>159</td>\n",
       "    </tr>\n",
       "    <tr>\n",
       "      <th>3</th>\n",
       "      <td>Faroe Islands</td>\n",
       "      <td>FRO</td>\n",
       "      <td>1961</td>\n",
       "      <td>1.697049e+06</td>\n",
       "      <td>78</td>\n",
       "      <td>59</td>\n",
       "    </tr>\n",
       "    <tr>\n",
       "      <th>4</th>\n",
       "      <td>Tuvalu</td>\n",
       "      <td>TUV</td>\n",
       "      <td>1961</td>\n",
       "      <td>3.000000e+00</td>\n",
       "      <td>233</td>\n",
       "      <td>193</td>\n",
       "    </tr>\n",
       "  </tbody>\n",
       "</table>\n",
       "</div>"
      ],
      "text/plain": [
       "         Country Code  Year    Meat_total  Country_LabelEncoded  \\\n",
       "0        Bahamas  BHS  1961  1.267000e+02                    15   \n",
       "1         Brunei  BRN  1961  1.289800e+03                    29   \n",
       "2          Qatar  QAT  1961  1.769200e+03                   183   \n",
       "3  Faroe Islands  FRO  1961  1.697049e+06                    78   \n",
       "4         Tuvalu  TUV  1961  3.000000e+00                   233   \n",
       "\n",
       "   Code_LabelEncoded  \n",
       "0                 17  \n",
       "1                 24  \n",
       "2                159  \n",
       "3                 59  \n",
       "4                193  "
      ]
     },
     "execution_count": 8,
     "metadata": {},
     "output_type": "execute_result"
    }
   ],
   "source": [
    "from sklearn.preprocessing import LabelEncoder\n",
    "\n",
    "# Label encode 'Country' and 'Code' columns\n",
    "label_encoder = LabelEncoder()\n",
    "data['Country_LabelEncoded'] = label_encoder.fit_transform(data['Country'])\n",
    "data['Code_LabelEncoded'] = label_encoder.fit_transform(data['Code'])\n",
    "\n",
    "# Display the first few rows after label encoding\n",
    "data.head()\n"
   ]
  },
  {
   "cell_type": "markdown",
   "id": "c8acad3e",
   "metadata": {},
   "source": [
    "# Standardization"
   ]
  },
  {
   "cell_type": "code",
   "execution_count": 9,
   "id": "4ce27e26",
   "metadata": {},
   "outputs": [
    {
     "data": {
      "text/html": [
       "<div>\n",
       "<style scoped>\n",
       "    .dataframe tbody tr th:only-of-type {\n",
       "        vertical-align: middle;\n",
       "    }\n",
       "\n",
       "    .dataframe tbody tr th {\n",
       "        vertical-align: top;\n",
       "    }\n",
       "\n",
       "    .dataframe thead th {\n",
       "        text-align: right;\n",
       "    }\n",
       "</style>\n",
       "<table border=\"1\" class=\"dataframe\">\n",
       "  <thead>\n",
       "    <tr style=\"text-align: right;\">\n",
       "      <th></th>\n",
       "      <th>Country</th>\n",
       "      <th>Code</th>\n",
       "      <th>Year</th>\n",
       "      <th>Meat_total</th>\n",
       "      <th>Country_LabelEncoded</th>\n",
       "      <th>Code_LabelEncoded</th>\n",
       "    </tr>\n",
       "  </thead>\n",
       "  <tbody>\n",
       "    <tr>\n",
       "      <th>0</th>\n",
       "      <td>Bahamas</td>\n",
       "      <td>BHS</td>\n",
       "      <td>0.853025</td>\n",
       "      <td>-0.251293</td>\n",
       "      <td>15</td>\n",
       "      <td>17</td>\n",
       "    </tr>\n",
       "    <tr>\n",
       "      <th>1</th>\n",
       "      <td>Brunei</td>\n",
       "      <td>BRN</td>\n",
       "      <td>0.853025</td>\n",
       "      <td>-0.251120</td>\n",
       "      <td>29</td>\n",
       "      <td>24</td>\n",
       "    </tr>\n",
       "    <tr>\n",
       "      <th>2</th>\n",
       "      <td>Qatar</td>\n",
       "      <td>QAT</td>\n",
       "      <td>0.853025</td>\n",
       "      <td>-0.251049</td>\n",
       "      <td>183</td>\n",
       "      <td>159</td>\n",
       "    </tr>\n",
       "    <tr>\n",
       "      <th>3</th>\n",
       "      <td>Faroe Islands</td>\n",
       "      <td>FRO</td>\n",
       "      <td>0.853025</td>\n",
       "      <td>0.000000</td>\n",
       "      <td>78</td>\n",
       "      <td>59</td>\n",
       "    </tr>\n",
       "    <tr>\n",
       "      <th>4</th>\n",
       "      <td>Tuvalu</td>\n",
       "      <td>TUV</td>\n",
       "      <td>0.853025</td>\n",
       "      <td>-0.251311</td>\n",
       "      <td>233</td>\n",
       "      <td>193</td>\n",
       "    </tr>\n",
       "  </tbody>\n",
       "</table>\n",
       "</div>"
      ],
      "text/plain": [
       "         Country Code      Year  Meat_total  Country_LabelEncoded  \\\n",
       "0        Bahamas  BHS  0.853025   -0.251293                    15   \n",
       "1         Brunei  BRN  0.853025   -0.251120                    29   \n",
       "2          Qatar  QAT  0.853025   -0.251049                   183   \n",
       "3  Faroe Islands  FRO  0.853025    0.000000                    78   \n",
       "4         Tuvalu  TUV  0.853025   -0.251311                   233   \n",
       "\n",
       "   Code_LabelEncoded  \n",
       "0                 17  \n",
       "1                 24  \n",
       "2                159  \n",
       "3                 59  \n",
       "4                193  "
      ]
     },
     "execution_count": 9,
     "metadata": {},
     "output_type": "execute_result"
    }
   ],
   "source": [
    "from sklearn.preprocessing import StandardScaler\n",
    "\n",
    "# Standardize the 'Year' and 'Meat_total' columns\n",
    "scaler = StandardScaler()\n",
    "data[['Year', 'Meat_total']] = scaler.fit_transform(data[['Year', 'Meat_total']])\n",
    "\n",
    "# Display the first few rows after standardization\n",
    "data.head()\n"
   ]
  },
  {
   "cell_type": "markdown",
   "id": "7c47b996",
   "metadata": {},
   "source": [
    "# Min-Max Scaling"
   ]
  },
  {
   "cell_type": "code",
   "execution_count": 10,
   "id": "e5741678",
   "metadata": {},
   "outputs": [
    {
     "data": {
      "text/html": [
       "<div>\n",
       "<style scoped>\n",
       "    .dataframe tbody tr th:only-of-type {\n",
       "        vertical-align: middle;\n",
       "    }\n",
       "\n",
       "    .dataframe tbody tr th {\n",
       "        vertical-align: top;\n",
       "    }\n",
       "\n",
       "    .dataframe thead th {\n",
       "        text-align: right;\n",
       "    }\n",
       "</style>\n",
       "<table border=\"1\" class=\"dataframe\">\n",
       "  <thead>\n",
       "    <tr style=\"text-align: right;\">\n",
       "      <th></th>\n",
       "      <th>Country</th>\n",
       "      <th>Code</th>\n",
       "      <th>Year</th>\n",
       "      <th>Meat_total</th>\n",
       "      <th>Country_LabelEncoded</th>\n",
       "      <th>Code_LabelEncoded</th>\n",
       "    </tr>\n",
       "  </thead>\n",
       "  <tbody>\n",
       "    <tr>\n",
       "      <th>0</th>\n",
       "      <td>Bahamas</td>\n",
       "      <td>BHS</td>\n",
       "      <td>0.980971</td>\n",
       "      <td>9.857461e-07</td>\n",
       "      <td>15</td>\n",
       "      <td>17</td>\n",
       "    </tr>\n",
       "    <tr>\n",
       "      <th>1</th>\n",
       "      <td>Brunei</td>\n",
       "      <td>BRN</td>\n",
       "      <td>0.980971</td>\n",
       "      <td>1.010684e-05</td>\n",
       "      <td>29</td>\n",
       "      <td>24</td>\n",
       "    </tr>\n",
       "    <tr>\n",
       "      <th>2</th>\n",
       "      <td>Qatar</td>\n",
       "      <td>QAT</td>\n",
       "      <td>0.980971</td>\n",
       "      <td>1.386632e-05</td>\n",
       "      <td>183</td>\n",
       "      <td>159</td>\n",
       "    </tr>\n",
       "    <tr>\n",
       "      <th>3</th>\n",
       "      <td>Faroe Islands</td>\n",
       "      <td>FRO</td>\n",
       "      <td>0.980971</td>\n",
       "      <td>1.330834e-02</td>\n",
       "      <td>78</td>\n",
       "      <td>59</td>\n",
       "    </tr>\n",
       "    <tr>\n",
       "      <th>4</th>\n",
       "      <td>Tuvalu</td>\n",
       "      <td>TUV</td>\n",
       "      <td>0.980971</td>\n",
       "      <td>1.568411e-08</td>\n",
       "      <td>233</td>\n",
       "      <td>193</td>\n",
       "    </tr>\n",
       "  </tbody>\n",
       "</table>\n",
       "</div>"
      ],
      "text/plain": [
       "         Country Code      Year    Meat_total  Country_LabelEncoded  \\\n",
       "0        Bahamas  BHS  0.980971  9.857461e-07                    15   \n",
       "1         Brunei  BRN  0.980971  1.010684e-05                    29   \n",
       "2          Qatar  QAT  0.980971  1.386632e-05                   183   \n",
       "3  Faroe Islands  FRO  0.980971  1.330834e-02                    78   \n",
       "4         Tuvalu  TUV  0.980971  1.568411e-08                   233   \n",
       "\n",
       "   Code_LabelEncoded  \n",
       "0                 17  \n",
       "1                 24  \n",
       "2                159  \n",
       "3                 59  \n",
       "4                193  "
      ]
     },
     "execution_count": 10,
     "metadata": {},
     "output_type": "execute_result"
    }
   ],
   "source": [
    "from sklearn.preprocessing import MinMaxScaler\n",
    "\n",
    "# Min-Max scale the 'Year' and 'Meat_total' columns\n",
    "min_max_scaler = MinMaxScaler()\n",
    "data[['Year', 'Meat_total']] = min_max_scaler.fit_transform(data[['Year', 'Meat_total']])\n",
    "\n",
    "# Display the first few rows after Min-Max scaling\n",
    "data.head()\n"
   ]
  },
  {
   "cell_type": "markdown",
   "id": "626f39ac",
   "metadata": {},
   "source": [
    "# Importing Necessary Libraries and Spliting the Data"
   ]
  },
  {
   "cell_type": "code",
   "execution_count": 11,
   "id": "99a91612",
   "metadata": {},
   "outputs": [
    {
     "name": "stdout",
     "output_type": "stream",
     "text": [
      "Training set shape: (11505, 5) (11505,)\n",
      "Testing set shape: (2877, 5) (2877,)\n",
      "\n",
      "First few rows of the training set:\n",
      "                             Country Code      Year  Country_LabelEncoded  \\\n",
      "2980             Southern Asia (FAO)  NaN  0.987481                   212   \n",
      "11625                          Haiti  HTI  0.104657                    96   \n",
      "13610                          Gabon  GAB  0.108663                    84   \n",
      "12174          Northern Africa (FAO)  NaN  0.105658                   165   \n",
      "13269  Upper-middle-income countries  NaN  0.108162                   240   \n",
      "\n",
      "       Code_LabelEncoded  \n",
      "2980                 210  \n",
      "11625                 78  \n",
      "13610                 61  \n",
      "12174                210  \n",
      "13269                210  \n",
      "\n",
      "First few rows of the testing set:\n",
      "                            Country Code      Year  Country_LabelEncoded  \\\n",
      "12417                          Chad  TCD  0.106159                    41   \n",
      "4394            Middle Africa (FAO)  NaN  0.098147                   144   \n",
      "13326  Democratic Republic of Congo  COD  0.108162                    56   \n",
      "12010                         Kenya  KEN  0.105658                   113   \n",
      "4653                          Qatar  QAT  0.991487                   183   \n",
      "\n",
      "       Code_LabelEncoded  \n",
      "12417                182  \n",
      "4394                 210  \n",
      "13326                 34  \n",
      "12010                 92  \n",
      "4653                 159  \n"
     ]
    }
   ],
   "source": [
    "from sklearn.model_selection import train_test_split\n",
    "\n",
    "# Split the data into features (X) and target variable (y)\n",
    "X = data.drop(['Meat_total'], axis=1)\n",
    "y = data['Meat_total']\n",
    "\n",
    "# Split the data into training and testing sets (80% train, 20% test)\n",
    "X_train, X_test, y_train, y_test = train_test_split(X, y, test_size=0.2, random_state=42)\n",
    "\n",
    "# Display the shapes of the training and testing sets\n",
    "print(\"Training set shape:\", X_train.shape, y_train.shape)\n",
    "print(\"Testing set shape:\", X_test.shape, y_test.shape)\n",
    "\n",
    "# Display the first few rows of the training set\n",
    "print(\"\\nFirst few rows of the training set:\")\n",
    "print(X_train.head())\n",
    "\n",
    "# Display the first few rows of the testing set\n",
    "print(\"\\nFirst few rows of the testing set:\")\n",
    "print(X_test.head())\n"
   ]
  },
  {
   "cell_type": "code",
   "execution_count": null,
   "id": "3f8aabfb",
   "metadata": {},
   "outputs": [],
   "source": []
  },
  {
   "cell_type": "code",
   "execution_count": 12,
   "id": "da9452eb",
   "metadata": {},
   "outputs": [
    {
     "name": "stdout",
     "output_type": "stream",
     "text": [
      "Columns in X:\n",
      "Index(['Country', 'Code', 'Year', 'Country_LabelEncoded', 'Code_LabelEncoded'], dtype='object')\n"
     ]
    }
   ],
   "source": [
    "print(\"Columns in X:\")\n",
    "print(X.columns)\n"
   ]
  },
  {
   "cell_type": "code",
   "execution_count": null,
   "id": "3dce293a",
   "metadata": {},
   "outputs": [],
   "source": []
  },
  {
   "cell_type": "code",
   "execution_count": 13,
   "id": "b6c3f548",
   "metadata": {},
   "outputs": [
    {
     "name": "stdout",
     "output_type": "stream",
     "text": [
      "Training set shape: (11505, 5) (11505,)\n",
      "Testing set shape: (2877, 5) (2877,)\n",
      "\n",
      "First few rows of the training set:\n",
      "                             Country Code      Year  Country_LabelEncoded  \\\n",
      "2980             Southern Asia (FAO)  NaN  0.987481                   212   \n",
      "11625                          Haiti  HTI  0.104657                    96   \n",
      "13610                          Gabon  GAB  0.108663                    84   \n",
      "12174          Northern Africa (FAO)  NaN  0.105658                   165   \n",
      "13269  Upper-middle-income countries  NaN  0.108162                   240   \n",
      "\n",
      "       Code_LabelEncoded  \n",
      "2980                 210  \n",
      "11625                 78  \n",
      "13610                 61  \n",
      "12174                210  \n",
      "13269                210  \n",
      "\n",
      "First few rows of the testing set:\n",
      "                            Country Code      Year  Country_LabelEncoded  \\\n",
      "12417                          Chad  TCD  0.106159                    41   \n",
      "4394            Middle Africa (FAO)  NaN  0.098147                   144   \n",
      "13326  Democratic Republic of Congo  COD  0.108162                    56   \n",
      "12010                         Kenya  KEN  0.105658                   113   \n",
      "4653                          Qatar  QAT  0.991487                   183   \n",
      "\n",
      "       Code_LabelEncoded  \n",
      "12417                182  \n",
      "4394                 210  \n",
      "13326                 34  \n",
      "12010                 92  \n",
      "4653                 159  \n"
     ]
    }
   ],
   "source": [
    "from sklearn.model_selection import train_test_split\n",
    "\n",
    "# Split the data into features (X) and target variable (y)\n",
    "X = data.drop(['Meat_total'], axis=1)\n",
    "y = data['Meat_total']\n",
    "\n",
    "# Split the data into training and testing sets (80% train, 20% test)\n",
    "X_train, X_test, y_train, y_test = train_test_split(X, y, test_size=0.2, random_state=42)\n",
    "\n",
    "# Display the shapes of the training and testing sets\n",
    "print(\"Training set shape:\", X_train.shape, y_train.shape)\n",
    "print(\"Testing set shape:\", X_test.shape, y_test.shape)\n",
    "\n",
    "# Display the first few rows of the training set\n",
    "print(\"\\nFirst few rows of the training set:\")\n",
    "print(X_train.head())\n",
    "\n",
    "# Display the first few rows of the testing set\n",
    "print(\"\\nFirst few rows of the testing set:\")\n",
    "print(X_test.head())\n"
   ]
  },
  {
   "cell_type": "code",
   "execution_count": 14,
   "id": "7c5656de",
   "metadata": {},
   "outputs": [
    {
     "name": "stdout",
     "output_type": "stream",
     "text": [
      "       Year  Country_LabelEncoded  Code_LabelEncoded\n",
      "0  0.980971                    15                 17\n",
      "1  0.980971                    29                 24\n",
      "2  0.980971                   183                159\n",
      "3  0.980971                    78                 59\n",
      "4  0.980971                   233                193\n"
     ]
    }
   ],
   "source": [
    "from sklearn.preprocessing import LabelEncoder\n",
    "\n",
    "# Re-apply label encoding to 'Country' and 'Code' columns\n",
    "label_encoder = LabelEncoder()\n",
    "X['Country_LabelEncoded'] = label_encoder.fit_transform(X['Country'])\n",
    "X['Code_LabelEncoded'] = label_encoder.fit_transform(X['Code'])\n",
    "\n",
    "# Drop the original 'Country' and 'Code' columns\n",
    "X = X.drop(['Country', 'Code'], axis=1)\n",
    "\n",
    "# Display the first few rows of the dataset to verify the changes\n",
    "print(X.head())\n"
   ]
  },
  {
   "cell_type": "code",
   "execution_count": null,
   "id": "7c0fc53e",
   "metadata": {},
   "outputs": [],
   "source": []
  },
  {
   "cell_type": "code",
   "execution_count": 15,
   "id": "04f450e8",
   "metadata": {},
   "outputs": [
    {
     "name": "stdout",
     "output_type": "stream",
     "text": [
      "           Year  Country_LabelEncoded  Code_LabelEncoded\n",
      "2980   0.987481                   212                210\n",
      "11625  0.104657                    96                 78\n",
      "13610  0.108663                    84                 61\n",
      "12174  0.105658                   165                210\n",
      "13269  0.108162                   240                210\n"
     ]
    }
   ],
   "source": [
    "from sklearn.preprocessing import LabelEncoder\n",
    "\n",
    "# Re-apply label encoding to 'Country' and 'Code' columns\n",
    "label_encoder = LabelEncoder()\n",
    "data['Country_LabelEncoded'] = label_encoder.fit_transform(data['Country'])\n",
    "data['Code_LabelEncoded'] = label_encoder.fit_transform(data['Code'])\n",
    "\n",
    "# Drop the original 'Country' and 'Code' columns\n",
    "data = data.drop(['Country', 'Code'], axis=1)\n",
    "\n",
    "# Split the data into features (X) and target variable (y)\n",
    "X = data.drop(['Meat_total'], axis=1)\n",
    "y = data['Meat_total']\n",
    "\n",
    "# Split the data into training and testing sets (80% train, 20% test)\n",
    "X_train, X_test, y_train, y_test = train_test_split(X, y, test_size=0.2, random_state=42)\n",
    "\n",
    "# Display the first few rows of the training set to verify the changes\n",
    "print(X_train.head())\n",
    "\n"
   ]
  },
  {
   "cell_type": "markdown",
   "id": "dc3aff58",
   "metadata": {},
   "source": [
    "# Linear Regression"
   ]
  },
  {
   "cell_type": "code",
   "execution_count": 16,
   "id": "ef9e2da4",
   "metadata": {},
   "outputs": [
    {
     "name": "stdout",
     "output_type": "stream",
     "text": [
      "Linear Regression:\n",
      "  Training R^2 score: 0.1003\n",
      "  Testing R^2 score: 0.0808\n"
     ]
    }
   ],
   "source": [
    "from sklearn.linear_model import LinearRegression\n",
    "\n",
    "# Create and train the Linear Regression model\n",
    "linear_reg = LinearRegression()\n",
    "linear_reg.fit(X_train, y_train)\n",
    "\n",
    "# Calculate training and testing scores\n",
    "train_score_linear_reg = linear_reg.score(X_train, y_train)\n",
    "test_score_linear_reg = linear_reg.score(X_test, y_test)\n",
    "\n",
    "# Display training and testing scores\n",
    "print(\"Linear Regression:\")\n",
    "print(f\"  Training R^2 score: {train_score_linear_reg:.4f}\")\n",
    "print(f\"  Testing R^2 score: {test_score_linear_reg:.4f}\")\n"
   ]
  },
  {
   "cell_type": "markdown",
   "id": "12f28cf4",
   "metadata": {},
   "source": [
    "# Decision Tree Regressor "
   ]
  },
  {
   "cell_type": "code",
   "execution_count": 17,
   "id": "f0ce9e30",
   "metadata": {},
   "outputs": [
    {
     "name": "stdout",
     "output_type": "stream",
     "text": [
      "Decision Tree Regressor:\n",
      "  Training R^2 score: 0.9545\n",
      "  Testing R^2 score: -0.1599\n"
     ]
    }
   ],
   "source": [
    "from sklearn.tree import DecisionTreeRegressor\n",
    "\n",
    "# Create and train the Decision Tree Regressor model\n",
    "dt_reg = DecisionTreeRegressor()\n",
    "dt_reg.fit(X_train, y_train)\n",
    "\n",
    "# Calculate training and testing scores\n",
    "train_score_dt_reg = dt_reg.score(X_train, y_train)\n",
    "test_score_dt_reg = dt_reg.score(X_test, y_test)\n",
    "\n",
    "# Display training and testing scores\n",
    "print(\"Decision Tree Regressor:\")\n",
    "print(f\"  Training R^2 score: {train_score_dt_reg:.4f}\")\n",
    "print(f\"  Testing R^2 score: {test_score_dt_reg:.4f}\")\n"
   ]
  },
  {
   "cell_type": "markdown",
   "id": "a340da15",
   "metadata": {},
   "source": [
    "#  Random Forest Regressor"
   ]
  },
  {
   "cell_type": "code",
   "execution_count": 18,
   "id": "bd26f14c",
   "metadata": {},
   "outputs": [
    {
     "name": "stdout",
     "output_type": "stream",
     "text": [
      "Random Forest Regressor:\n",
      "  Training R^2 score: 0.8458\n",
      "  Testing R^2 score: 0.2144\n"
     ]
    }
   ],
   "source": [
    "from sklearn.ensemble import RandomForestRegressor\n",
    "\n",
    "# Create and train the Random Forest Regressor model\n",
    "rf_reg = RandomForestRegressor()\n",
    "rf_reg.fit(X_train, y_train)\n",
    "\n",
    "# Calculate training and testing scores\n",
    "train_score_rf_reg = rf_reg.score(X_train, y_train)\n",
    "test_score_rf_reg = rf_reg.score(X_test, y_test)\n",
    "\n",
    "# Display training and testing scores\n",
    "print(\"Random Forest Regressor:\")\n",
    "print(f\"  Training R^2 score: {train_score_rf_reg:.4f}\")\n",
    "print(f\"  Testing R^2 score: {test_score_rf_reg:.4f}\")\n"
   ]
  },
  {
   "cell_type": "markdown",
   "id": "4f310a64",
   "metadata": {},
   "source": [
    "# Support Vector Machine (SVR)"
   ]
  },
  {
   "cell_type": "code",
   "execution_count": 19,
   "id": "fbef81c5",
   "metadata": {},
   "outputs": [
    {
     "name": "stdout",
     "output_type": "stream",
     "text": [
      "Support Vector Machine (SVR):\n",
      "  Training R^2 score: -2.6078\n",
      "  Testing R^2 score: -2.6043\n"
     ]
    }
   ],
   "source": [
    "from sklearn.svm import SVR\n",
    "\n",
    "# Create and train the Support Vector Machine (SVR) model\n",
    "svr_reg = SVR()\n",
    "svr_reg.fit(X_train, y_train)\n",
    "\n",
    "# Calculate training and testing scores\n",
    "train_score_svr_reg = svr_reg.score(X_train, y_train)\n",
    "test_score_svr_reg = svr_reg.score(X_test, y_test)\n",
    "\n",
    "# Display training and testing scores\n",
    "print(\"Support Vector Machine (SVR):\")\n",
    "print(f\"  Training R^2 score: {train_score_svr_reg:.4f}\")\n",
    "print(f\"  Testing R^2 score: {test_score_svr_reg:.4f}\")\n"
   ]
  },
  {
   "cell_type": "markdown",
   "id": "68075871",
   "metadata": {},
   "source": [
    "# K-Nearest Neighbors (KNN)"
   ]
  },
  {
   "cell_type": "code",
   "execution_count": 20,
   "id": "36fa5d9d",
   "metadata": {},
   "outputs": [
    {
     "name": "stdout",
     "output_type": "stream",
     "text": [
      "K-Nearest Neighbors (KNN):\n",
      "  Training R^2 score: 0.4641\n",
      "  Testing R^2 score: 0.2235\n"
     ]
    }
   ],
   "source": [
    "from sklearn.neighbors import KNeighborsRegressor\n",
    "\n",
    "# Create and train the K-Nearest Neighbors (KNN) model\n",
    "knn_reg = KNeighborsRegressor()\n",
    "knn_reg.fit(X_train, y_train)\n",
    "\n",
    "# Calculate training and testing scores\n",
    "train_score_knn_reg = knn_reg.score(X_train, y_train)\n",
    "test_score_knn_reg = knn_reg.score(X_test, y_test)\n",
    "\n",
    "# Display training and testing scores\n",
    "print(\"K-Nearest Neighbors (KNN):\")\n",
    "print(f\"  Training R^2 score: {train_score_knn_reg:.4f}\")\n",
    "print(f\"  Testing R^2 score: {test_score_knn_reg:.4f}\")\n"
   ]
  },
  {
   "cell_type": "markdown",
   "id": "31ad8dda",
   "metadata": {},
   "source": [
    "# Hyperparameter Optimization for Support Vector Machine (SVR) using RandomizedSearchCV\n"
   ]
  },
  {
   "cell_type": "code",
   "execution_count": null,
   "id": "f4d5dfcc",
   "metadata": {},
   "outputs": [],
   "source": [
    "from sklearn.model_selection import RandomizedSearchCV\n",
    "from sklearn.svm import SVR\n",
    "from scipy.stats import uniform\n",
    "\n",
    "# Define the parameter distribution for SVR\n",
    "param_dist_svr = {\n",
    "    'C': uniform(loc=0.1, scale=10),\n",
    "    'gamma': ['scale', 'auto'],\n",
    "    'kernel': ['linear', 'poly', 'rbf']\n",
    "}\n",
    "\n",
    "# Create the SVR model\n",
    "svr_reg = SVR()\n",
    "\n",
    "# Perform RandomizedSearchCV\n",
    "random_search_svr = RandomizedSearchCV(svr_reg, param_dist_svr, n_iter=50, cv=5, scoring='r2', random_state=42)\n",
    "random_search_svr.fit(X_train, y_train)\n",
    "\n",
    "# Print the best parameters and best score\n",
    "print(\"Best Parameters for SVR:\", random_search_svr.best_params_)\n",
    "print(\"Best Score for SVR:\", random_search_svr.best_score_)\n"
   ]
  },
  {
   "cell_type": "code",
   "execution_count": null,
   "id": "93ebc9b2",
   "metadata": {},
   "outputs": [],
   "source": []
  }
 ],
 "metadata": {
  "kernelspec": {
   "display_name": "Python 3 (ipykernel)",
   "language": "python",
   "name": "python3"
  },
  "language_info": {
   "codemirror_mode": {
    "name": "ipython",
    "version": 3
   },
   "file_extension": ".py",
   "mimetype": "text/x-python",
   "name": "python",
   "nbconvert_exporter": "python",
   "pygments_lexer": "ipython3",
   "version": "3.9.12"
  }
 },
 "nbformat": 4,
 "nbformat_minor": 5
}
